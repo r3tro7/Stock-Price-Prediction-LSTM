{
 "cells": [
  {
   "cell_type": "code",
   "execution_count": 4,
   "metadata": {},
   "outputs": [],
   "source": [
    "import numpy as np\n",
    "from modules import *"
   ]
  },
  {
   "cell_type": "code",
   "execution_count": null,
   "metadata": {},
   "outputs": [],
   "source": []
  },
  {
   "cell_type": "code",
   "execution_count": null,
   "metadata": {},
   "outputs": [],
   "source": [
    "class LstmCellState:\n",
    "    def __init__(self, ct_dim, x_dim):\n",
    "        \"\"\"\n",
    "        Initialize all gate matrices. \n",
    "        All gate matrices have the same dimension as ct matrix\n",
    "        c - current hidden cell state. The gate corresponding to this determines how much \n",
    "            data of previous cell should be read in current cell.\n",
    "        i - input gate. Determines how much data should be read into the cell from current input.\n",
    "        f - forget gate. Determines how much data should be forgotten, i.e discarded\n",
    "        o - output gate. How much data to output from current cell to next cell\n",
    "        s - The present state of gate. \n",
    "            Equation to calculate present state : forget_gate*previous_state(s<t-1>) + c_gate*input_gate\n",
    "        h - output state of the cell. It is the prediction value of Tth output in series.\n",
    "        dh - derivative of h\n",
    "        ds - derivative of s\n",
    "        \"\"\"\n",
    "        self.c = np.zeros(ct_dim)\n",
    "        self.i = np.zeros(ct_dim)\n",
    "        self.f = np.zeros(ct_dim)\n",
    "        self.o = np.zeros(ct_dim)\n",
    "        self.s = np.zeros(ct_dim)\n",
    "        self.h = np.zeros(ct_dim)\n",
    "        self.dh = np.zeros_like(self.h)\n",
    "        self.ds = np.zeros_like(self.s)"
   ]
  }
 ],
 "metadata": {
  "kernelspec": {
   "display_name": "Python 3",
   "language": "python",
   "name": "python3"
  },
  "language_info": {
   "codemirror_mode": {
    "name": "ipython",
    "version": 3
   },
   "file_extension": ".py",
   "mimetype": "text/x-python",
   "name": "python",
   "nbconvert_exporter": "python",
   "pygments_lexer": "ipython3",
   "version": "3.8.5"
  }
 },
 "nbformat": 4,
 "nbformat_minor": 4
}
